{
  "nbformat": 4,
  "nbformat_minor": 0,
  "metadata": {
    "colab": {
      "name": "Unit2_Mini_Project.ipynb",
      "provenance": [],
      "collapsed_sections": [],
      "include_colab_link": true
    },
    "kernelspec": {
      "name": "python3",
      "display_name": "Python 3"
    }
  },
  "cells": [
    {
      "cell_type": "markdown",
      "metadata": {
        "id": "view-in-github",
        "colab_type": "text"
      },
      "source": [
        "<a href=\"https://colab.research.google.com/github/markquark125/Summer-MicroCredentials/blob/main/Unit2_Mini_Project.ipynb\" target=\"_parent\"><img src=\"https://colab.research.google.com/assets/colab-badge.svg\" alt=\"Open In Colab\"/></a>"
      ]
    },
    {
      "cell_type": "markdown",
      "metadata": {
        "id": "Vgs8Kp4TidFQ"
      },
      "source": [
        "# Intrdouction to Python - Mini Project"
      ]
    },
    {
      "cell_type": "markdown",
      "metadata": {
        "id": "_Hq7Ny79iwgD"
      },
      "source": [
        "#Python Project – Odd or Even\n",
        "\n",
        "Ask the user for a number. Depending on whether the number is even or odd, print out an appropriate message to the user. Hint: how does an even / odd number react differently when divided by 2?\n"
      ]
    },
    {
      "cell_type": "code",
      "metadata": {
        "id": "lotvpVpvlKsR",
        "colab": {
          "base_uri": "https://localhost:8080/"
        },
        "outputId": "67b5e36a-07e8-4919-a6a3-cba8f9a45cd0"
      },
      "source": [
        "num = int(input(\"Enter a number: \"))\n",
        "\n",
        "if num % 2 == 0:\n",
        "    print('Number ' + str(num) + ' is even!')\n",
        "else:\n",
        "    print('Number ' + str(num) + ' is odd!')"
      ],
      "execution_count": 8,
      "outputs": [
        {
          "output_type": "stream",
          "name": "stdout",
          "text": [
            "Enter a number: 42\n",
            "Number 42 is even!\n"
          ]
        }
      ]
    },
    {
      "cell_type": "code",
      "metadata": {
        "id": "6_iDEhq5nvd8"
      },
      "source": [
        ""
      ],
      "execution_count": null,
      "outputs": []
    },
    {
      "cell_type": "markdown",
      "metadata": {
        "id": "io_27RSlizno"
      },
      "source": [
        "# Bonus:\n",
        "\n",
        "1.\tIf the number is a multiple of 4, print out a different message.\n",
        "\n",
        "2.\tAsk the user for two numbers: one number to check (call it num) and one number to divide by (check). If check divides evenly into num, tell that to the user. If not, print a different appropriate message.\n"
      ]
    },
    {
      "cell_type": "code",
      "source": [
        "# numba 1\n",
        "num_entered = int(input(\"Enter a number: \"))\n",
        "\n",
        "if num_entered % 4 == 0:\n",
        "    print('Number ' + str(num_entered) + ' is a mulitple of 4!')\n",
        "else:\n",
        "    print('Number ' + str(num_entered) + ' is not a multiple of 4!')"
      ],
      "metadata": {
        "colab": {
          "base_uri": "https://localhost:8080/"
        },
        "id": "HxEZLhaFQw7s",
        "outputId": "d7234327-b935-49f4-bb87-f50a3406af73"
      },
      "execution_count": 11,
      "outputs": [
        {
          "output_type": "stream",
          "name": "stdout",
          "text": [
            "Enter a number: 11\n",
            "Number 11 is not a multiple of 4!\n"
          ]
        }
      ]
    },
    {
      "cell_type": "code",
      "metadata": {
        "id": "Dh1o5cAylSHB",
        "colab": {
          "base_uri": "https://localhost:8080/"
        },
        "outputId": "ace42fcf-1eb9-4b0e-cb8d-350ef26f7113"
      },
      "source": [
        "# numba 2\n",
        "num_entered1 = input(\"Enter dividend: \")\n",
        "num_entered2 = input(\"Enter divisor: \")\n",
        "\n",
        "if int(num_entered1) % int(num_entered2) == 0:\n",
        "    print(num_entered1 + \" divides \" + num_entered2 + \" evenly!\")\n",
        "else:\n",
        "    print(num_entered1 + \" does not divide \" + num_entered2 + \" evenly!\")"
      ],
      "execution_count": 13,
      "outputs": [
        {
          "output_type": "stream",
          "name": "stdout",
          "text": [
            "Enter dividend: 2\n",
            "Enter divisor: 2\n",
            "2 divides 2 evenly!\n"
          ]
        }
      ]
    },
    {
      "cell_type": "code",
      "source": [
        ""
      ],
      "metadata": {
        "id": "71Wu27jwTfnk"
      },
      "execution_count": null,
      "outputs": []
    }
  ]
}