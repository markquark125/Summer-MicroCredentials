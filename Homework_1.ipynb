{
  "nbformat": 4,
  "nbformat_minor": 0,
  "metadata": {
    "colab": {
      "name": "Homework 1.ipynb",
      "provenance": [],
      "collapsed_sections": [],
      "include_colab_link": true
    },
    "kernelspec": {
      "name": "python3",
      "display_name": "Python 3"
    },
    "language_info": {
      "name": "python"
    }
  },
  "cells": [
    {
      "cell_type": "markdown",
      "metadata": {
        "id": "view-in-github",
        "colab_type": "text"
      },
      "source": [
        "<a href=\"https://colab.research.google.com/github/markquark125/Summer-MicroCredentials/blob/main/Homework_1.ipynb\" target=\"_parent\"><img src=\"https://colab.research.google.com/assets/colab-badge.svg\" alt=\"Open In Colab\"/></a>"
      ]
    },
    {
      "cell_type": "markdown",
      "source": [
        "# Answer all the questions!"
      ],
      "metadata": {
        "id": "FkJsXd8D06Rp"
      }
    },
    {
      "cell_type": "markdown",
      "source": [
        "##Write a Python program to get the volume of a sphere with radius 6"
      ],
      "metadata": {
        "id": "elOgKZR009ex"
      }
    },
    {
      "cell_type": "code",
      "source": [
        "def volume_sphere(r):\n",
        "    \"\"\"\n",
        "    Description: Computes the volume of a sphere with radius r.\n",
        "    Author: Marcos Ortega\n",
        "    Input: An integer r\n",
        "    Output: The volume of a sphere with a radius r\n",
        "    \"\"\"\n",
        "    # Volume of a sphere = (4/3) * pi * (r^3)\n",
        "    pi = 3.14\n",
        "    return ((4/3) * pi * (r**3))\n"
      ],
      "metadata": {
        "id": "YbhKO6Cs09av"
      },
      "execution_count": null,
      "outputs": []
    },
    {
      "cell_type": "code",
      "source": [
        "volume_sphere(6)"
      ],
      "metadata": {
        "id": "U0R0TMub-87p",
        "outputId": "fade49b7-08fd-4b7c-c864-2defc7c27792",
        "colab": {
          "base_uri": "https://localhost:8080/"
        }
      },
      "execution_count": null,
      "outputs": [
        {
          "output_type": "execute_result",
          "data": {
            "text/plain": [
              "904.3199999999999"
            ]
          },
          "metadata": {},
          "execution_count": 2
        }
      ]
    },
    {
      "cell_type": "markdown",
      "source": [
        "##Write a Python program to find whether a given number (accept from the user) is even or odd"
      ],
      "metadata": {
        "id": "OuX7aazu09X1"
      }
    },
    {
      "cell_type": "code",
      "source": [
        "def is_even_odd():\n",
        "    \"\"\"\n",
        "    Description: Checks whether a number n is even or odd.\n",
        "    Author: Marcos Ortega\n",
        "    Input: An integer n\n",
        "    Output: Will print \"Even\" if even, else prints \"Odd\"\n",
        "    \"\"\"\n",
        "    n = int(input(\"Enter an integer: \"))\n",
        "    if n % 2 == 0:\n",
        "        print(\"Even\")\n",
        "    else:\n",
        "        print(\"Odd\")\n"
      ],
      "metadata": {
        "id": "vcYhNNaU09Uz"
      },
      "execution_count": null,
      "outputs": []
    },
    {
      "cell_type": "code",
      "source": [
        "is_even_odd()"
      ],
      "metadata": {
        "id": "4q0CbAZU_wi7",
        "outputId": "877aceab-85bd-4947-f029-76e8ba0c60d2",
        "colab": {
          "base_uri": "https://localhost:8080/"
        }
      },
      "execution_count": null,
      "outputs": [
        {
          "output_type": "stream",
          "name": "stdout",
          "text": [
            "Enter an integer: 6\n",
            "Even\n"
          ]
        }
      ]
    },
    {
      "cell_type": "markdown",
      "source": [
        "##Write a Python program to count the number 4 in a given list"
      ],
      "metadata": {
        "id": "NP5TZKqO09Rr"
      }
    },
    {
      "cell_type": "code",
      "source": [
        "def how_many_fours(n):\n",
        "    \"\"\"\n",
        "    Description: Counts the number of 4s in a list.\n",
        "    Author: Marcos Ortega\n",
        "    Input: A list n\n",
        "    Output: Will print count of 4s in a list\n",
        "    \"\"\"\n",
        "    # Using count method: https://www.programiz.com/python-programming/methods/list/count\n",
        "\n",
        "    count = n.count(4)\n",
        "\n",
        "    print('Number of 4s: ', count)\n"
      ],
      "metadata": {
        "id": "oWZ3vTfW09Oh"
      },
      "execution_count": 1,
      "outputs": []
    },
    {
      "cell_type": "code",
      "source": [
        "how_many_fours([1,4,3,5,4,5,4,4,4,10])"
      ],
      "metadata": {
        "id": "lIuZvpd5AnBr",
        "outputId": "9b603b68-9895-43b6-e4ab-28620485ddf4",
        "colab": {
          "base_uri": "https://localhost:8080/"
        }
      },
      "execution_count": 3,
      "outputs": [
        {
          "output_type": "stream",
          "name": "stdout",
          "text": [
            "Number of 4s:  5\n"
          ]
        }
      ]
    },
    {
      "cell_type": "markdown",
      "source": [
        "##Write a Python program that will accept the base and height of a triangle and compute the area"
      ],
      "metadata": {
        "id": "IK0FvUoa1MJG"
      }
    },
    {
      "cell_type": "code",
      "source": [
        "def triangle_area(b,h):\n",
        "    \"\"\"\n",
        "    Description: Computes the area of a triangle given a base and height.\n",
        "    Author: Marcos Ortega\n",
        "    Input: A base b and height h\n",
        "    Output: Prints area of a triangle: 1/2 * b * h\n",
        "    \"\"\"\n",
        "\n",
        "    area = (1/2) * b * h\n",
        "\n",
        "    print('Area of a triangle with a base', b, 'and a height',h,': ', area)\n"
      ],
      "metadata": {
        "id": "G02dv4rh1MFs"
      },
      "execution_count": 7,
      "outputs": []
    },
    {
      "cell_type": "code",
      "source": [
        "triangle_area(2,4)"
      ],
      "metadata": {
        "id": "ubCSrh6Q1vWs",
        "outputId": "ea66047a-a0f7-416a-8882-9e2a2ea11cd1",
        "colab": {
          "base_uri": "https://localhost:8080/"
        }
      },
      "execution_count": 10,
      "outputs": [
        {
          "output_type": "stream",
          "name": "stdout",
          "text": [
            "Area of a triangle with a base 2 and a height 4 :  4.0\n"
          ]
        }
      ]
    },
    {
      "cell_type": "markdown",
      "source": [
        "##Write a Python program to convert the distance (in feet) to inches, yards, and miles."
      ],
      "metadata": {
        "id": "sOkeycZk1L5-"
      }
    },
    {
      "cell_type": "code",
      "source": [
        "def convert_distance():\n",
        "    \"\"\"\n",
        "    Description: Computes distance f into inches, yards, and miles\n",
        "    Author: Marcos Ortega\n",
        "    Input: An input of distance f (which is in feet)\n",
        "    Output: Prints out inches, yards, and miles\n",
        "    \"\"\"\n",
        "\n",
        "    feet = int(input('Enter feet: '))\n",
        "\n",
        "    inches = feet * 12.0\n",
        "    yards = feet/3.0\n",
        "    miles = feet/5280\n",
        "\n",
        "    print('Given a distance of', feet, 'feet:')\n",
        "    print('Inches:', inches)\n",
        "    print('Yards:', yards)\n",
        "    print('Miles:', miles)\n",
        "\n",
        "    # The imperial system is ridiculous"
      ],
      "metadata": {
        "id": "YtW-ZxqB1L2c"
      },
      "execution_count": 17,
      "outputs": []
    },
    {
      "cell_type": "code",
      "source": [
        "convert_distance()"
      ],
      "metadata": {
        "id": "7Nw8DMVo1l0V",
        "outputId": "96c5bbf1-0a3d-4c28-883b-f1d87f69b086",
        "colab": {
          "base_uri": "https://localhost:8080/"
        }
      },
      "execution_count": 18,
      "outputs": [
        {
          "output_type": "stream",
          "name": "stdout",
          "text": [
            "Enter feet: 12\n",
            "Given a distance of 12 feet:\n",
            "Inches: 144.0\n",
            "Yards: 4.0\n",
            "Miles: 0.0022727272727272726\n"
          ]
        }
      ]
    }
  ]
}