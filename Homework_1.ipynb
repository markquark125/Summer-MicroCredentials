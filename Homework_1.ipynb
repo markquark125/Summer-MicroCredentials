{
  "nbformat": 4,
  "nbformat_minor": 0,
  "metadata": {
    "colab": {
      "name": "Homework 1.ipynb",
      "provenance": [],
      "collapsed_sections": [],
      "include_colab_link": true
    },
    "kernelspec": {
      "name": "python3",
      "display_name": "Python 3"
    },
    "language_info": {
      "name": "python"
    }
  },
  "cells": [
    {
      "cell_type": "markdown",
      "metadata": {
        "id": "view-in-github",
        "colab_type": "text"
      },
      "source": [
        "<a href=\"https://colab.research.google.com/github/markquark125/Summer-MicroCredentials/blob/main/Homework_1.ipynb\" target=\"_parent\"><img src=\"https://colab.research.google.com/assets/colab-badge.svg\" alt=\"Open In Colab\"/></a>"
      ]
    },
    {
      "cell_type": "markdown",
      "source": [
        "# Answer all the questions!"
      ],
      "metadata": {
        "id": "FkJsXd8D06Rp"
      }
    },
    {
      "cell_type": "markdown",
      "source": [
        "##Write a Python program to get the volume of a sphere with radius 6"
      ],
      "metadata": {
        "id": "elOgKZR009ex"
      }
    },
    {
      "cell_type": "code",
      "source": [
        "def volume_sphere(r):\n",
        "    \"\"\"\n",
        "    Description: Computes the volume of a sphere with radius r.\n",
        "    Author: Marcos Ortega\n",
        "    Input: An integer r\n",
        "    Output: The volume of a sphere with a radius r\n",
        "    \"\"\"\n",
        "    # Volume of a sphere = (4/3) * pi * (r^3)\n",
        "    pi = 3.14\n",
        "    return ((4/3) * pi * (r**3))\n"
      ],
      "metadata": {
        "id": "YbhKO6Cs09av"
      },
      "execution_count": 1,
      "outputs": []
    },
    {
      "cell_type": "code",
      "source": [
        "volume_sphere(6)"
      ],
      "metadata": {
        "id": "U0R0TMub-87p",
        "outputId": "fade49b7-08fd-4b7c-c864-2defc7c27792",
        "colab": {
          "base_uri": "https://localhost:8080/"
        }
      },
      "execution_count": 2,
      "outputs": [
        {
          "output_type": "execute_result",
          "data": {
            "text/plain": [
              "904.3199999999999"
            ]
          },
          "metadata": {},
          "execution_count": 2
        }
      ]
    },
    {
      "cell_type": "markdown",
      "source": [
        "##Write a Python program to find whether a given number (accept from the user) is even or odd"
      ],
      "metadata": {
        "id": "OuX7aazu09X1"
      }
    },
    {
      "cell_type": "code",
      "source": [
        "def is_even_odd():\n",
        "    \"\"\"\n",
        "    Description: Checks whether a number n is even or odd.\n",
        "    Author: Marcos Ortega\n",
        "    Input: An integer n\n",
        "    Output: Will print \"Even\" if even, else prints \"Odd\"\n",
        "    \"\"\"\n",
        "    n = int(input(\"Enter an integer: \"))\n",
        "    if n % 2 == 0:\n",
        "        print(\"Even\")\n",
        "    else:\n",
        "        print(\"Odd\")\n"
      ],
      "metadata": {
        "id": "vcYhNNaU09Uz"
      },
      "execution_count": 9,
      "outputs": []
    },
    {
      "cell_type": "code",
      "source": [
        "is_even_odd()"
      ],
      "metadata": {
        "id": "4q0CbAZU_wi7",
        "outputId": "877aceab-85bd-4947-f029-76e8ba0c60d2",
        "colab": {
          "base_uri": "https://localhost:8080/"
        }
      },
      "execution_count": 10,
      "outputs": [
        {
          "output_type": "stream",
          "name": "stdout",
          "text": [
            "Enter an integer: 6\n",
            "Even\n"
          ]
        }
      ]
    },
    {
      "cell_type": "markdown",
      "source": [
        "##Write a Python program to count the number 4 in a given list"
      ],
      "metadata": {
        "id": "NP5TZKqO09Rr"
      }
    },
    {
      "cell_type": "code",
      "source": [
        "def how_many_fours(n):\n",
        "    \"\"\"\n",
        "    Description: Counts the number of 4s in a list.\n",
        "    Author: Marcos Ortega\n",
        "    Input: A list n\n",
        "    Output: Will print count of 4s in a list\n",
        "    \"\"\"\n",
        "    count = 0\n",
        "    for i in n:\n",
        "        if n[i-1] == 4:   # Iteration starts at one but index starts at zero!\n",
        "            count += 1\n",
        "    return count\n"
      ],
      "metadata": {
        "id": "oWZ3vTfW09Oh"
      },
      "execution_count": 22,
      "outputs": []
    },
    {
      "cell_type": "code",
      "source": [
        "how_many_fours([1,4,3,5,4,5,6,4,4,10])"
      ],
      "metadata": {
        "id": "lIuZvpd5AnBr",
        "outputId": "73e11cf4-f681-4d24-be0e-516daf8d8444",
        "colab": {
          "base_uri": "https://localhost:8080/"
        }
      },
      "execution_count": 24,
      "outputs": [
        {
          "output_type": "execute_result",
          "data": {
            "text/plain": [
              "2"
            ]
          },
          "metadata": {},
          "execution_count": 24
        }
      ]
    },
    {
      "cell_type": "markdown",
      "source": [
        "##Write a Python program that will accept the base and height of a triangle and compute the area"
      ],
      "metadata": {
        "id": "IK0FvUoa1MJG"
      }
    },
    {
      "cell_type": "code",
      "source": [
        ""
      ],
      "metadata": {
        "id": "G02dv4rh1MFs"
      },
      "execution_count": null,
      "outputs": []
    },
    {
      "cell_type": "markdown",
      "source": [
        "##Write a Python program to convert the distance (in feet) to inches, yards, and miles."
      ],
      "metadata": {
        "id": "sOkeycZk1L5-"
      }
    },
    {
      "cell_type": "code",
      "source": [
        ""
      ],
      "metadata": {
        "id": "YtW-ZxqB1L2c"
      },
      "execution_count": null,
      "outputs": []
    }
  ]
}