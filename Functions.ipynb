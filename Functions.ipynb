{
  "nbformat": 4,
  "nbformat_minor": 0,
  "metadata": {
    "colab": {
      "name": "Functions.ipynb",
      "provenance": [],
      "authorship_tag": "ABX9TyP3Sx665ZxwPtjfSLuQtCW4",
      "include_colab_link": true
    },
    "kernelspec": {
      "name": "python3",
      "display_name": "Python 3"
    },
    "language_info": {
      "name": "python"
    }
  },
  "cells": [
    {
      "cell_type": "markdown",
      "metadata": {
        "id": "view-in-github",
        "colab_type": "text"
      },
      "source": [
        "<a href=\"https://colab.research.google.com/github/markquark125/Summer-MicroCredentials/blob/main/Functions.ipynb\" target=\"_parent\"><img src=\"https://colab.research.google.com/assets/colab-badge.svg\" alt=\"Open In Colab\"/></a>"
      ]
    },
    {
      "cell_type": "markdown",
      "source": [
        "# Intro to Python IV\n",
        "## Function!"
      ],
      "metadata": {
        "id": "9q35N_hlXQhg"
      }
    },
    {
      "cell_type": "markdown",
      "source": [
        "### 1) How to define a function?"
      ],
      "metadata": {
        "id": "ZmIaPjpeXZYU"
      }
    },
    {
      "cell_type": "code",
      "source": [
        "\"\"\"\n",
        "'def' name_of_function():\n",
        "    whatever the function is suppose to do.\n",
        "\"\"\""
      ],
      "metadata": {
        "colab": {
          "base_uri": "https://localhost:8080/",
          "height": 36
        },
        "id": "p7BBKMqvXZVR",
        "outputId": "370f047c-9efe-4828-b8b2-1f81a0e1e5c6"
      },
      "execution_count": 1,
      "outputs": [
        {
          "output_type": "execute_result",
          "data": {
            "text/plain": [
              "\"\\n'def' name_of_function():\\n    whatever the function is suppose to do.\\n\""
            ],
            "application/vnd.google.colaboratory.intrinsic+json": {
              "type": "string"
            }
          },
          "metadata": {},
          "execution_count": 1
        }
      ]
    },
    {
      "cell_type": "code",
      "source": [
        "def my_function():\n",
        "    print(\"Hi there\")"
      ],
      "metadata": {
        "id": "pUxpBamAXZSZ"
      },
      "execution_count": 2,
      "outputs": []
    },
    {
      "cell_type": "code",
      "source": [
        "type(my_function)"
      ],
      "metadata": {
        "colab": {
          "base_uri": "https://localhost:8080/"
        },
        "id": "BPbaasgsXQao",
        "outputId": "7bf3e3b5-026c-4e35-e912-47e5bb07127d"
      },
      "execution_count": 5,
      "outputs": [
        {
          "output_type": "execute_result",
          "data": {
            "text/plain": [
              "function"
            ]
          },
          "metadata": {},
          "execution_count": 5
        }
      ]
    },
    {
      "cell_type": "code",
      "source": [
        "my_function()"
      ],
      "metadata": {
        "colab": {
          "base_uri": "https://localhost:8080/"
        },
        "id": "x36pePGSXQXm",
        "outputId": "07866d1d-ebac-4bfa-a896-3845aa3ba5f7"
      },
      "execution_count": 7,
      "outputs": [
        {
          "output_type": "stream",
          "name": "stdout",
          "text": [
            "Hi there\n"
          ]
        }
      ]
    },
    {
      "cell_type": "code",
      "source": [
        "help(my_function)"
      ],
      "metadata": {
        "colab": {
          "base_uri": "https://localhost:8080/"
        },
        "id": "sfR8PiiIXQUW",
        "outputId": "f323c382-0817-4b72-b1a5-68adeef2030b"
      },
      "execution_count": 8,
      "outputs": [
        {
          "output_type": "stream",
          "name": "stdout",
          "text": [
            "Help on function my_function in module __main__:\n",
            "\n",
            "my_function()\n",
            "\n"
          ]
        }
      ]
    },
    {
      "cell_type": "code",
      "source": [
        "def my_function():\n",
        "    \"\"\"\n",
        "    Created by: Mark\n",
        "    Input: None\n",
        "    Output: Hello\n",
        "    \"\"\"\n",
        "    print(\"Hello\")"
      ],
      "metadata": {
        "id": "2bzYl_ZbXQRT"
      },
      "execution_count": 9,
      "outputs": []
    },
    {
      "cell_type": "code",
      "execution_count": 10,
      "metadata": {
        "colab": {
          "base_uri": "https://localhost:8080/"
        },
        "id": "yxKQ_oKkXNvd",
        "outputId": "09159f97-e401-4b4b-e6c4-0ddbbd22e381"
      },
      "outputs": [
        {
          "output_type": "stream",
          "name": "stdout",
          "text": [
            "Hello\n"
          ]
        }
      ],
      "source": [
        "my_function()"
      ]
    },
    {
      "cell_type": "code",
      "source": [
        "help(my_function)\n",
        "\n",
        "# ALWAYS put in function"
      ],
      "metadata": {
        "colab": {
          "base_uri": "https://localhost:8080/"
        },
        "id": "-NsyIAi4Z7Ec",
        "outputId": "c4b6c292-6d04-4e2b-8e05-1ad568e93192"
      },
      "execution_count": 11,
      "outputs": [
        {
          "output_type": "stream",
          "name": "stdout",
          "text": [
            "Help on function my_function in module __main__:\n",
            "\n",
            "my_function()\n",
            "    Created by: Mark\n",
            "    Input: None\n",
            "    Output: Hello\n",
            "\n"
          ]
        }
      ]
    },
    {
      "cell_type": "code",
      "source": [
        "def greetings(name):\n",
        "    \"\"\"\n",
        "    Created by: Mark\n",
        "    Input: None\n",
        "    Output: Hello to the user\n",
        "    \"\"\"\n",
        "    print(\"Good afternoon \" + name)"
      ],
      "metadata": {
        "id": "6K5wihQSZ95C"
      },
      "execution_count": 19,
      "outputs": []
    },
    {
      "cell_type": "code",
      "source": [
        "greetings('John')"
      ],
      "metadata": {
        "colab": {
          "base_uri": "https://localhost:8080/"
        },
        "id": "lJujsVFsag8h",
        "outputId": "7c13a11d-9e8b-48b5-ca9e-802eabc3792c"
      },
      "execution_count": 20,
      "outputs": [
        {
          "output_type": "stream",
          "name": "stdout",
          "text": [
            "Good afternoon John\n"
          ]
        }
      ]
    },
    {
      "cell_type": "code",
      "source": [
        "def greetings2(name='John'):\n",
        "    \"\"\"\n",
        "    Created by: Mark\n",
        "    Input: None\n",
        "    Output: Hello to the user\n",
        "    \"\"\"\n",
        "    print(\"Good afternoon \" + name)\n",
        "\n",
        "# with defaul arguement"
      ],
      "metadata": {
        "id": "_TFWucrqaraB"
      },
      "execution_count": 21,
      "outputs": []
    },
    {
      "cell_type": "code",
      "source": [
        "greetings2('Tom')"
      ],
      "metadata": {
        "colab": {
          "base_uri": "https://localhost:8080/"
        },
        "id": "UOP6o1V4bHh5",
        "outputId": "6b7838f5-5a3a-4dc4-a2f9-b311b983485d"
      },
      "execution_count": 22,
      "outputs": [
        {
          "output_type": "stream",
          "name": "stdout",
          "text": [
            "Good afternoon Tom\n"
          ]
        }
      ]
    },
    {
      "cell_type": "code",
      "source": [
        "name = input(\"Enter your name: \")\n",
        "greetings2(name)"
      ],
      "metadata": {
        "colab": {
          "base_uri": "https://localhost:8080/"
        },
        "id": "7-XPzOU5bKR5",
        "outputId": "b1c10424-63fe-49bd-bfe6-167455e8370c"
      },
      "execution_count": 23,
      "outputs": [
        {
          "output_type": "stream",
          "name": "stdout",
          "text": [
            "Enter your name: Marcos\n",
            "Good afternoon Marcos\n"
          ]
        }
      ]
    },
    {
      "cell_type": "code",
      "source": [
        "def add(n1, n2):\n",
        "    return n1 + n2"
      ],
      "metadata": {
        "id": "4JZcDUQfbY-h"
      },
      "execution_count": 24,
      "outputs": []
    },
    {
      "cell_type": "code",
      "source": [
        "add(34, 89)"
      ],
      "metadata": {
        "colab": {
          "base_uri": "https://localhost:8080/"
        },
        "id": "La0qa_Amb16e",
        "outputId": "63d7c331-2856-4653-f85f-479cf2b20502"
      },
      "execution_count": 25,
      "outputs": [
        {
          "output_type": "execute_result",
          "data": {
            "text/plain": [
              "123"
            ]
          },
          "metadata": {},
          "execution_count": 25
        }
      ]
    },
    {
      "cell_type": "code",
      "source": [
        "def even_numbers(n):\n",
        "    \"\"\"\n",
        "    Description: This func prints out even numbers from a given list of numbers.\n",
        "    Created by: Mark\n",
        "    Input: list of numbers\n",
        "    Output: even numbers from given list\n",
        "    \"\"\"\n",
        "    num = [] # empty list\n",
        "    for i in n:\n",
        "        if i % 2 == 0:\n",
        "            num.append(i) # add num to empty list if even\n",
        "    return(num)\n"
      ],
      "metadata": {
        "id": "FqGWbwPXb3rU"
      },
      "execution_count": 26,
      "outputs": []
    },
    {
      "cell_type": "code",
      "source": [
        "help(even_numbers)"
      ],
      "metadata": {
        "colab": {
          "base_uri": "https://localhost:8080/"
        },
        "id": "0lJvYH3Ob7AJ",
        "outputId": "6336356e-ddec-4ca6-a411-8edcd997ed8f"
      },
      "execution_count": 27,
      "outputs": [
        {
          "output_type": "stream",
          "name": "stdout",
          "text": [
            "Help on function even_numbers in module __main__:\n",
            "\n",
            "even_numbers(n)\n",
            "    Description: This func prints out even numbers from a given list of numbers.\n",
            "    Created by: Mark\n",
            "    Input: list of numbers\n",
            "    Output: even numbers from given list\n",
            "\n"
          ]
        }
      ]
    },
    {
      "cell_type": "code",
      "source": [
        "even_numbers([23,33,7])\n",
        "\n",
        "# prints out the even numbers"
      ],
      "metadata": {
        "colab": {
          "base_uri": "https://localhost:8080/"
        },
        "id": "5Q-AQ-M1b7Jx",
        "outputId": "e0ef8441-6090-4d12-f9ab-a9aa547d8100"
      },
      "execution_count": 29,
      "outputs": [
        {
          "output_type": "execute_result",
          "data": {
            "text/plain": [
              "[]"
            ]
          },
          "metadata": {},
          "execution_count": 29
        }
      ]
    },
    {
      "cell_type": "code",
      "source": [
        "def odd_numbers(n):\n",
        "    \"\"\"\n",
        "    Description: This func prints out odd numbers from a given list of numbers.\n",
        "    Created by: Mark\n",
        "    Input: list of numbers\n",
        "    Output: odd numbers from given list\n",
        "    \"\"\"\n",
        "    num = [] # empty list\n",
        "    for i in n:\n",
        "        if i % 2 != 0:\n",
        "            num.append(i) # add num to empty list if even\n",
        "    return(num)"
      ],
      "metadata": {
        "id": "MwUvhuJFb7R0"
      },
      "execution_count": 30,
      "outputs": []
    },
    {
      "cell_type": "code",
      "source": [
        "odd_numbers([-1,-3,4,5,6,33,20,311])"
      ],
      "metadata": {
        "colab": {
          "base_uri": "https://localhost:8080/"
        },
        "id": "vW4Jo28Ob7YY",
        "outputId": "b0f6171d-b880-4677-bd8c-f0f6e05b6ee6"
      },
      "execution_count": 32,
      "outputs": [
        {
          "output_type": "execute_result",
          "data": {
            "text/plain": [
              "[-1, -3, 5, 33, 311]"
            ]
          },
          "metadata": {},
          "execution_count": 32
        }
      ]
    },
    {
      "cell_type": "code",
      "source": [
        ""
      ],
      "metadata": {
        "id": "QGxRwv6Ob7gd"
      },
      "execution_count": null,
      "outputs": []
    }
  ]
}