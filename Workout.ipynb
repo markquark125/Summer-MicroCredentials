{
  "nbformat": 4,
  "nbformat_minor": 0,
  "metadata": {
    "colab": {
      "name": "Workout.ipynb",
      "provenance": [],
      "authorship_tag": "ABX9TyNvbRCQN0HqyQG5VrYgN6yC",
      "include_colab_link": true
    },
    "kernelspec": {
      "name": "python3",
      "display_name": "Python 3"
    },
    "language_info": {
      "name": "python"
    }
  },
  "cells": [
    {
      "cell_type": "markdown",
      "metadata": {
        "id": "view-in-github",
        "colab_type": "text"
      },
      "source": [
        "<a href=\"https://colab.research.google.com/github/markquark125/Summer-MicroCredentials/blob/main/Workout.ipynb\" target=\"_parent\"><img src=\"https://colab.research.google.com/assets/colab-badge.svg\" alt=\"Open In Colab\"/></a>"
      ]
    },
    {
      "cell_type": "markdown",
      "source": [
        "# Python Practice Problems"
      ],
      "metadata": {
        "id": "WPsYJ3_Om1x1"
      }
    },
    {
      "cell_type": "markdown",
      "source": [
        "## Display numbers divisible by 5 from a list"
      ],
      "metadata": {
        "id": "hq6fpXBunPEx"
      }
    },
    {
      "cell_type": "code",
      "source": [
        "def divisible_by_five(n):\n",
        "    \"\"\"\n",
        "    Description: This func prints out numbers divisible by 5 from a given list of numbers.\n",
        "    Created by: Mark\n",
        "    Input: list of numbers\n",
        "    Output: numbers divisible by 5 from given list\n",
        "    \"\"\"\n",
        "\n",
        "    num_list = []  # create an empty list to be filled.\n",
        "    for num in n:\n",
        "        if num % 5 == 0:\n",
        "            num_list.append(num)  # if num is a factor of 5, add to list\n",
        "    return num_list               # print the list"
      ],
      "metadata": {
        "id": "aPY1VNUlnPLC"
      },
      "execution_count": 8,
      "outputs": []
    },
    {
      "cell_type": "code",
      "source": [
        "divisible_by_five([1,5,10,11,15])"
      ],
      "metadata": {
        "colab": {
          "base_uri": "https://localhost:8080/"
        },
        "id": "CF7mNMe3nPO0",
        "outputId": "c509cf50-6a9e-48d2-80a6-b9999d2eb33f"
      },
      "execution_count": 9,
      "outputs": [
        {
          "output_type": "execute_result",
          "data": {
            "text/plain": [
              "[5, 10, 15]"
            ]
          },
          "metadata": {},
          "execution_count": 9
        }
      ]
    },
    {
      "cell_type": "markdown",
      "source": [
        "## Check if the first and last number of a list is the same"
      ],
      "metadata": {
        "id": "yjcAmjz6nPR8"
      }
    },
    {
      "cell_type": "code",
      "source": [
        "num_list = [1,2,3,4,1,5,1, 12]\n",
        "if num_list[0] == num_list[-1]:\n",
        "    print(\"Equal\")\n",
        "else:\n",
        "    print(\"Not equal\")"
      ],
      "metadata": {
        "colab": {
          "base_uri": "https://localhost:8080/"
        },
        "id": "FW88Bcw1r2iI",
        "outputId": "3867267f-db69-4263-ce71-4feeaccaae04"
      },
      "execution_count": 13,
      "outputs": [
        {
          "output_type": "stream",
          "name": "stdout",
          "text": [
            "Not equal\n"
          ]
        }
      ]
    },
    {
      "cell_type": "code",
      "source": [
        "def check_end_nums(n):\n",
        "    \"\"\"\n",
        "    Description: This func prints out numbers at end of a list and checks if they are equal.\n",
        "    Created by: Mark\n",
        "    Input: list of numbers\n",
        "    Output: prints first and last number in list. Prints 'Equal' if numbers at \n",
        "            ends of list are equal, else prints 'Not equal.'\n",
        "    \"\"\"\n",
        "    print(\"First number: \" + str(n[0]) )\n",
        "    print(\"Last number: \" + str(n[-1]) )\n",
        "    if n[0] == n[-1]:\n",
        "        print(\"Equal\")\n",
        "    else:\n",
        "        print(\"Not equal\")"
      ],
      "metadata": {
        "id": "7bHlzufkr3QF"
      },
      "execution_count": 29,
      "outputs": []
    },
    {
      "cell_type": "code",
      "source": [
        "check_end_nums([1,2,3,4,5,6,1,2,3,5,1])"
      ],
      "metadata": {
        "colab": {
          "base_uri": "https://localhost:8080/"
        },
        "id": "HerRkZQJr3Ur",
        "outputId": "faf185fb-c956-4642-dbb0-35266f411850"
      },
      "execution_count": 32,
      "outputs": [
        {
          "output_type": "stream",
          "name": "stdout",
          "text": [
            "First number: 1\n",
            "Last number: 1\n",
            "Equal\n"
          ]
        }
      ]
    },
    {
      "cell_type": "markdown",
      "source": [
        "## Display the first and last colors from a given list"
      ],
      "metadata": {
        "id": "7PGjY-a1r3Zr"
      }
    },
    {
      "cell_type": "code",
      "source": [
        "def display_colors(n):\n",
        "    \"\"\"\n",
        "    Description: Display the first and last colors from a given list.\n",
        "    Created by: Mark\n",
        "    Input: list of colors(strings)\n",
        "    Output: Prints the first and last color from a given list of colors\n",
        "    \"\"\"\n",
        "\n",
        "    print(\"First color: \" + n[0] )\n",
        "    print(\"Last color: \" + n[-1] )\n",
        "    "
      ],
      "metadata": {
        "id": "U2DyaX4dwMl7"
      },
      "execution_count": 33,
      "outputs": []
    },
    {
      "cell_type": "code",
      "source": [
        "display_colors([\"red\",\"black\",\"blue\",\"purple\",\"violet\",\"brown\"])"
      ],
      "metadata": {
        "colab": {
          "base_uri": "https://localhost:8080/"
        },
        "id": "zE8r0yCFwMsy",
        "outputId": "9e4d1d4e-6439-4514-a349-0e8bd076dac5"
      },
      "execution_count": 35,
      "outputs": [
        {
          "output_type": "stream",
          "name": "stdout",
          "text": [
            "First color: red\n",
            "Last color: brown\n"
          ]
        }
      ]
    },
    {
      "cell_type": "markdown",
      "source": [
        "## Input an integer (n) and computes the value of n + nn + nnn"
      ],
      "metadata": {
        "id": "2H46y1GWwMwp"
      }
    },
    {
      "cell_type": "code",
      "source": [
        "def sum_of_ns(n):\n",
        "    \"\"\"\n",
        "    Description: Computes the value of of n + nn + nnn.\n",
        "    Created by: Mark\n",
        "    Input: An integer value n\n",
        "    Output: The sum of n + nn + nnn.\n",
        "    \"\"\"\n",
        "    sum = 0\n",
        "    for i in range(1,4):\n",
        "        sum = sum + (n**i)\n",
        "    return sum\n"
      ],
      "metadata": {
        "id": "pmuVrU4vwM0B"
      },
      "execution_count": 43,
      "outputs": []
    },
    {
      "cell_type": "code",
      "source": [
        "sum_of_ns(2)"
      ],
      "metadata": {
        "colab": {
          "base_uri": "https://localhost:8080/"
        },
        "id": "yza01pKYwM3G",
        "outputId": "21c8d83d-242a-464b-d78c-edbb6c871648"
      },
      "execution_count": 53,
      "outputs": [
        {
          "output_type": "execute_result",
          "data": {
            "text/plain": [
              "14"
            ]
          },
          "metadata": {},
          "execution_count": 53
        }
      ]
    },
    {
      "cell_type": "code",
      "source": [
        ""
      ],
      "metadata": {
        "id": "ks93m5iK09D3"
      },
      "execution_count": null,
      "outputs": []
    }
  ]
}